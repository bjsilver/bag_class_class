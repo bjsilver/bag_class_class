{
 "cells": [
  {
   "cell_type": "markdown",
   "id": "e4cfd1e0",
   "metadata": {
    "slideshow": {
     "slide_type": "slide"
    }
   },
   "source": [
    "## Classes in Python\n",
    "\n",
    "- Classes are 'a means of bundling data and functionality together'\n",
    "- They are a blueprint for an object.\n",
    "- They are usually written with each word capitalisted e.g. `MyClass`\n",
    "- Some classes you're probably familiar with are:\n",
    "```python\n",
    "numpy.Array\n",
    "pandas.DataFrame\n",
    "xarray.DataSet\n",
    "```"
   ]
  },
  {
   "cell_type": "markdown",
   "id": "49ba70d4",
   "metadata": {
    "slideshow": {
     "slide_type": "slide"
    }
   },
   "source": [
    "## Simple example\n",
    "\n",
    "Let's create a class to represent a person\n",
    "We will give them some attributes"
   ]
  },
  {
   "cell_type": "code",
   "execution_count": 1,
   "id": "1bdb0023",
   "metadata": {
    "slideshow": {
     "slide_type": "fragment"
    }
   },
   "outputs": [
    {
     "name": "stdout",
     "output_type": "stream",
     "text": [
      "this thing is a homo sapiens with 2 legs\n"
     ]
    }
   ],
   "source": [
    "class Person():\n",
    "    species = 'homo sapiens'\n",
    "    number_of_legs = 2\n",
    "    \n",
    "print(f'this thing is a {Person.species} with {Person.number_of_legs} legs')"
   ]
  },
  {
   "cell_type": "raw",
   "id": "855e1f2f",
   "metadata": {
    "slideshow": {
     "slide_type": "subslide"
    }
   },
   "source": [
    "- In our blueprint for a person we defined them as a homo sapiens with two legs\n",
    "- But how about creating a specific person, i.e. creating an instance of a class\n",
    "- We need to expand the `Person` definition to include initial arguments, for this we add an `__init__` method"
   ]
  },
  {
   "cell_type": "code",
   "execution_count": 2,
   "id": "db3baab8",
   "metadata": {
    "slideshow": {
     "slide_type": "fragment"
    }
   },
   "outputs": [
    {
     "name": "stdout",
     "output_type": "stream",
     "text": [
      "this thing is a homo sapiens with 2 legs\n",
      "it is called Ben and it is 27 years old\n"
     ]
    }
   ],
   "source": [
    "class Person():\n",
    "    species = 'homo sapiens'\n",
    "    number_of_legs = 2\n",
    "    \n",
    "    def __init__(self, name, age):\n",
    "        self.name = name\n",
    "        self.age = age\n",
    "        \n",
    "# create an instance of person called Ben who is 27 years old\n",
    "person = Person(name='Ben', age=27)\n",
    "\n",
    "# the general class attributes are still there\n",
    "print(f'this thing is a {person.species} with {person.number_of_legs} legs')\n",
    "\n",
    "# and there are also attributes of the instance added\n",
    "print(f'it is called {person.name} and it is {person.age} years old')"
   ]
  },
  {
   "cell_type": "markdown",
   "id": "8144ffe5",
   "metadata": {
    "slideshow": {
     "slide_type": "subslide"
    }
   },
   "source": [
    "let's give it the ability to speak"
   ]
  },
  {
   "cell_type": "code",
   "execution_count": 3,
   "id": "011212d8",
   "metadata": {
    "slideshow": {
     "slide_type": "fragment"
    }
   },
   "outputs": [
    {
     "name": "stdout",
     "output_type": "stream",
     "text": [
      "fine thanks\n",
      "I am called Ben and I am 27 years old\n"
     ]
    }
   ],
   "source": [
    "class Person():\n",
    "    species = 'homo sapiens'\n",
    "    number_of_legs = 2\n",
    "    \n",
    "    def __init__(self, name, age):\n",
    "        self.name = name\n",
    "        self.age = age\n",
    "        \n",
    "    def ask(self, question):\n",
    "        \n",
    "        if question == 'how are you?':\n",
    "            print('fine thanks')\n",
    "        elif question == 'please identify yourself':\n",
    "            print(f'I am called {person.name} and I am {person.age} years old')\n",
    "        \n",
    "# create an instance of person called Ben who is 27 years old\n",
    "person = Person(name='Ben', age=27)\n",
    "\n",
    "# ask it how it is\n",
    "person.ask('how are you?')\n",
    "\n",
    "# ask it to identify itself\n",
    "person.ask('please identify yourself')\n"
   ]
  },
  {
   "cell_type": "markdown",
   "id": "5f18d6e5",
   "metadata": {
    "slideshow": {
     "slide_type": "subslide"
    }
   },
   "source": [
    "we can also edit its attributes"
   ]
  },
  {
   "cell_type": "code",
   "execution_count": 4,
   "id": "9506a428",
   "metadata": {
    "slideshow": {
     "slide_type": "fragment"
    }
   },
   "outputs": [
    {
     "name": "stdout",
     "output_type": "stream",
     "text": [
      "I am called Claudia and I am 31 years old\n"
     ]
    }
   ],
   "source": [
    "# lets age it by 4 years, change its name  and ask it to identify itself again\n",
    "person.age += 4\n",
    "person.name = 'Claudia'\n",
    "person.ask('please identify yourself')"
   ]
  },
  {
   "cell_type": "markdown",
   "id": "e68670bf",
   "metadata": {
    "slideshow": {
     "slide_type": "slide"
    }
   },
   "source": [
    "## More useful example\n",
    "\n",
    "Let's say we have a dataset of tree observations and we want to create a tree class to store the data"
   ]
  },
  {
   "cell_type": "code",
   "execution_count": 5,
   "id": "da94aa3d",
   "metadata": {
    "slideshow": {
     "slide_type": "fragment"
    }
   },
   "outputs": [],
   "source": [
    "class Tree():\n",
    "    def __init__(self, species, height, dbh):\n",
    "        self.species = species\n",
    "        self.height = height\n",
    "        self.dbh = dbh"
   ]
  },
  {
   "cell_type": "markdown",
   "id": "8178809c",
   "metadata": {
    "slideshow": {
     "slide_type": "subslide"
    }
   },
   "source": [
    "We create a blueprint for a tree, which is initialised with species, height and diameter at breast height (dbh)"
   ]
  },
  {
   "cell_type": "code",
   "execution_count": 6,
   "id": "b19ae6b9",
   "metadata": {
    "slideshow": {
     "slide_type": "fragment"
    }
   },
   "outputs": [
    {
     "name": "stdout",
     "output_type": "stream",
     "text": [
      "the tree is an oak, 9.5m tall with a diameter of 3.2m\n"
     ]
    }
   ],
   "source": [
    "# for example, a large oak tree\n",
    "tree = Tree(species='oak', height=9.5, dbh=3.2)\n",
    "print(f'the tree is an {tree.species}, {tree.height}m tall with a diameter of {tree.dbh}m')"
   ]
  },
  {
   "cell_type": "markdown",
   "id": "127bfa29",
   "metadata": {
    "slideshow": {
     "slide_type": "subslide"
    }
   },
   "source": [
    "Another way to achieve the same result would be to add a string method (`__str__`) to the class"
   ]
  },
  {
   "cell_type": "code",
   "execution_count": 7,
   "id": "93546543",
   "metadata": {
    "slideshow": {
     "slide_type": "fragment"
    }
   },
   "outputs": [
    {
     "name": "stdout",
     "output_type": "stream",
     "text": [
      "<__main__.Tree object at 0x7f91037c8160>\n"
     ]
    }
   ],
   "source": [
    "# currently if you print the class this happens:\n",
    "print(tree)"
   ]
  },
  {
   "cell_type": "code",
   "execution_count": 8,
   "id": "5781b20a",
   "metadata": {
    "slideshow": {
     "slide_type": "subslide"
    }
   },
   "outputs": [
    {
     "name": "stdout",
     "output_type": "stream",
     "text": [
      "the tree is an oak, 9.5m tall with a diameter of 3.2m\n"
     ]
    }
   ],
   "source": [
    "class Tree():\n",
    "    def __init__(self, species, height, dbh):\n",
    "        self.species = species\n",
    "        self.height = height\n",
    "        self.dbh = dbh\n",
    "        biomass_estimation_table = {'oak':(0.994, -2.944, 1.935, 0.738),\n",
    "                                    'birch':(0.575, -2.575, 1.827, 0.823)}\n",
    "        self.biomass_estimators = biomass_estimation_table[self.species]\n",
    "    \n",
    "    # add this method\n",
    "    def __str__(self):\n",
    "        return f'the tree is an {tree.species}, {tree.height}m tall with a diameter of {tree.dbh}m'\n",
    "\n",
    "# we have redefined the class so we need to also re-initialise the tree instance\n",
    "tree = Tree(species='oak', height=9.5, dbh=3.2)\n",
    "# now if we print it we get:\n",
    "print(tree)"
   ]
  },
  {
   "cell_type": "markdown",
   "id": "5ee38a45",
   "metadata": {
    "slideshow": {
     "slide_type": "subslide"
    }
   },
   "source": [
    "We can add a method to the function to estimate the tree's biomass"
   ]
  },
  {
   "cell_type": "code",
   "execution_count": 9,
   "id": "dd02d80e",
   "metadata": {
    "slideshow": {
     "slide_type": "fragment"
    }
   },
   "outputs": [],
   "source": [
    "import numpy as np\n",
    "\n",
    "class Tree():\n",
    "    \n",
    "    # add this table of parameters for the calculation\n",
    "    biomass_estimation_table = {'oak':(0.994, -2.944, 1.935, 0.738),\n",
    "                                'birch':(0.575, -2.575, 1.827, 0.823),\n",
    "                                'rowan':(0.823, -2.823, 1.204, 1.121)}\n",
    "    \n",
    "    def __init__(self, species, height, dbh):\n",
    "        self.species = species\n",
    "        self.height = height\n",
    "        self.dbh = dbh\n",
    "        \n",
    "        \"\"\"now when the tree is initialised, the class retrieves the correct parameters for\n",
    "            biomass estimation depending on species\"\"\"\n",
    "        self.biomass_estimators = self.biomass_estimation_table[self.species]\n",
    "        # note this takes place within __init__\n",
    "\n",
    "    def __str__(self):\n",
    "        return f'{self.species} tree of height {self.height}m and dbh {self.dbh}m'\n",
    "\n",
    "    def estimate_biomass(self):\n",
    "        #λ × exp(p0 + p1 × lnD + p2 × lnH)\n",
    "        λ, p0, p1, p2 = self.biomass_estimators\n",
    "        biomass = λ * np.exp(p0 + p1 * np.log(self.dbh) + p2 * np.log(self.height))\n",
    "        return biomass"
   ]
  },
  {
   "cell_type": "markdown",
   "id": "4b53e402",
   "metadata": {
    "slideshow": {
     "slide_type": "subslide"
    }
   },
   "source": [
    "Now we can estimate the biomass (in tonnes) of the oak\n"
   ]
  },
  {
   "cell_type": "code",
   "execution_count": 10,
   "id": "f41b7b88",
   "metadata": {
    "slideshow": {
     "slide_type": "fragment"
    }
   },
   "outputs": [
    {
     "name": "stdout",
     "output_type": "stream",
     "text": [
      "the biomass of the oak is 2.62 tonnes\n"
     ]
    }
   ],
   "source": [
    "tree = Tree(species='oak', height=9.5, dbh=3.2)\n",
    "print(f'the biomass of the {tree.species} is {tree.estimate_biomass():.2f} tonnes')"
   ]
  },
  {
   "cell_type": "markdown",
   "id": "4952c1a1",
   "metadata": {
    "slideshow": {
     "slide_type": "subslide"
    }
   },
   "source": [
    "We can add a method to grow the tree (to keep things simple by a % scaling)\n",
    "\n",
    "```python\n",
    "def grow(self, percent):\n",
    "        self.height = self.height * (1 + percent / 100)\n",
    "        self.dbh = self.dbh * (1 + percent / 100)\n",
    "```"
   ]
  },
  {
   "cell_type": "code",
   "execution_count": 11,
   "id": "0bcf11d2",
   "metadata": {
    "slideshow": {
     "slide_type": "skip"
    }
   },
   "outputs": [],
   "source": [
    "class Tree():\n",
    "    \n",
    "    # add this table of parameters for the calculation\n",
    "    biomass_estimation_table = {'oak':(0.994, -2.944, 1.935, 0.738),\n",
    "                                'birch':(0.575, -2.575, 1.827, 0.823),\n",
    "                                'rowan':(0.823, -2.823, 1.204, 1.121)}\n",
    "    \n",
    "    def __init__(self, species, height, dbh):\n",
    "        self.species = species\n",
    "        self.height = height\n",
    "        self.dbh = dbh\n",
    "        \n",
    "        self.biomass_estimators = self.biomass_estimation_table[self.species]\n",
    "\n",
    "    def __str__(self):\n",
    "        return f'{self.species} tree of height {self.height}m and dbh {self.dbh}m'\n",
    "\n",
    "    def estimate_biomass(self):\n",
    "        #λ × exp(p0 + p1 × lnD + p2 × lnH)\n",
    "        λ, p0, p1, p2 = self.biomass_estimators\n",
    "        biomass = λ * np.exp(p0 + p1 * np.log(self.dbh) + p2 * np.log(self.height))\n",
    "        return biomass\n",
    "    \n",
    "    def grow(self, percent):\n",
    "        self.height = self.height * (1 + percent / 100)\n",
    "        self.dbh = self.dbh * (1 + percent / 100)"
   ]
  },
  {
   "cell_type": "code",
   "execution_count": 12,
   "id": "d0add991",
   "metadata": {
    "slideshow": {
     "slide_type": "subslide"
    }
   },
   "outputs": [
    {
     "name": "stdout",
     "output_type": "stream",
     "text": [
      "the biomass of the oak is 2.62 tonnes\n"
     ]
    }
   ],
   "source": [
    "# so if we calculate the biomass of our oak again:\n",
    "tree = Tree(species='oak', height=9.5, dbh=3.2)\n",
    "print(f'the biomass of the {tree.species} is {tree.estimate_biomass():.2f} tonnes')"
   ]
  },
  {
   "cell_type": "code",
   "execution_count": 13,
   "id": "f8deec32",
   "metadata": {
    "slideshow": {
     "slide_type": "fragment"
    }
   },
   "outputs": [
    {
     "name": "stdout",
     "output_type": "stream",
     "text": [
      "the biomass of the oak is 4.26 tonnes\n"
     ]
    }
   ],
   "source": [
    "# then we grow the tree by 20% and calculate it again\n",
    "tree.grow(20)\n",
    "print(f'the biomass of the {tree.species} is {tree.estimate_biomass():.2f} tonnes')"
   ]
  },
  {
   "cell_type": "markdown",
   "id": "5b9a2d21",
   "metadata": {
    "slideshow": {
     "slide_type": "slide"
    }
   },
   "source": [
    "### We can also create a forest class to contain the trees"
   ]
  },
  {
   "cell_type": "code",
   "execution_count": 14,
   "id": "aacfdf88",
   "metadata": {
    "slideshow": {
     "slide_type": "fragment"
    }
   },
   "outputs": [
    {
     "name": "stdout",
     "output_type": "stream",
     "text": [
      "there are 0 trees in the forest\n"
     ]
    }
   ],
   "source": [
    "class Forest():\n",
    "    def __init__(self, trees=[]):\n",
    "        self.trees = trees\n",
    "    \n",
    "    def tree_count(self):\n",
    "        return len(self.trees)\n",
    "\n",
    "    # this makes the forest act like a list (i.e. subscriptable)\n",
    "    def __getitem__(self, item):\n",
    "        return self.trees[item]\n",
    "\n",
    "    def add_tree(self, tree):\n",
    "        self.trees.append(tree)\n",
    "        \n",
    "forest = Forest()\n",
    "print(f'there are {forest.tree_count()} trees in the forest')"
   ]
  },
  {
   "cell_type": "markdown",
   "id": "baba66b5",
   "metadata": {
    "slideshow": {
     "slide_type": "subslide"
    }
   },
   "source": [
    "`tree_obs.csv` is a csv containing observations from fieldwork"
   ]
  },
  {
   "cell_type": "code",
   "execution_count": 15,
   "id": "062220e1",
   "metadata": {
    "slideshow": {
     "slide_type": "fragment"
    }
   },
   "outputs": [
    {
     "data": {
      "text/html": [
       "<div>\n",
       "<style scoped>\n",
       "    .dataframe tbody tr th:only-of-type {\n",
       "        vertical-align: middle;\n",
       "    }\n",
       "\n",
       "    .dataframe tbody tr th {\n",
       "        vertical-align: top;\n",
       "    }\n",
       "\n",
       "    .dataframe thead th {\n",
       "        text-align: right;\n",
       "    }\n",
       "</style>\n",
       "<table border=\"1\" class=\"dataframe\">\n",
       "  <thead>\n",
       "    <tr style=\"text-align: right;\">\n",
       "      <th></th>\n",
       "      <th>dbh</th>\n",
       "      <th>h</th>\n",
       "      <th>species</th>\n",
       "    </tr>\n",
       "  </thead>\n",
       "  <tbody>\n",
       "    <tr>\n",
       "      <th>0</th>\n",
       "      <td>2.5</td>\n",
       "      <td>5.0</td>\n",
       "      <td>oak</td>\n",
       "    </tr>\n",
       "    <tr>\n",
       "      <th>1</th>\n",
       "      <td>1.4</td>\n",
       "      <td>3.1</td>\n",
       "      <td>birch</td>\n",
       "    </tr>\n",
       "    <tr>\n",
       "      <th>2</th>\n",
       "      <td>1.8</td>\n",
       "      <td>3.4</td>\n",
       "      <td>birch</td>\n",
       "    </tr>\n",
       "    <tr>\n",
       "      <th>3</th>\n",
       "      <td>5.2</td>\n",
       "      <td>8.1</td>\n",
       "      <td>oak</td>\n",
       "    </tr>\n",
       "    <tr>\n",
       "      <th>4</th>\n",
       "      <td>2.5</td>\n",
       "      <td>5.2</td>\n",
       "      <td>birch</td>\n",
       "    </tr>\n",
       "  </tbody>\n",
       "</table>\n",
       "</div>"
      ],
      "text/plain": [
       "   dbh    h species\n",
       "0  2.5  5.0     oak\n",
       "1  1.4  3.1   birch\n",
       "2  1.8  3.4   birch\n",
       "3  5.2  8.1     oak\n",
       "4  2.5  5.2   birch"
      ]
     },
     "execution_count": 15,
     "metadata": {},
     "output_type": "execute_result"
    }
   ],
   "source": [
    "import pandas as pd\n",
    "tree_obs = pd.read_csv('tree_obs.csv')\n",
    "tree_obs.head()"
   ]
  },
  {
   "cell_type": "markdown",
   "id": "b2a19090",
   "metadata": {
    "slideshow": {
     "slide_type": "subslide"
    }
   },
   "source": [
    "adding the trees in the dataframe to our forest"
   ]
  },
  {
   "cell_type": "code",
   "execution_count": 16,
   "id": "b69b5223",
   "metadata": {
    "slideshow": {
     "slide_type": "fragment"
    }
   },
   "outputs": [
    {
     "name": "stdout",
     "output_type": "stream",
     "text": [
      "there are 8 trees in the forest\n"
     ]
    }
   ],
   "source": [
    "for ri, row in tree_obs.iterrows():\n",
    "    # first make a tree\n",
    "    tree = Tree(species=row['species'], height=row['h'], dbh=row['dbh'])\n",
    "    # then add tree to forest\n",
    "    forest.add_tree(tree)\n",
    "    \n",
    "# then count the number of trees in the forest again\n",
    "print(f'there are {forest.tree_count()} trees in the forest')"
   ]
  },
  {
   "cell_type": "code",
   "execution_count": 20,
   "id": "29eac5d1",
   "metadata": {
    "slideshow": {
     "slide_type": "fragment"
    }
   },
   "outputs": [],
   "source": [
    "class Forest():\n",
    "    def __init__(self, trees=[]):\n",
    "        self.trees = trees\n",
    "\n",
    "    # this makes the forest act like a list (i.e. subscriptable)\n",
    "    def __getitem__(self, item):\n",
    "        return self.trees[item]\n",
    "\n",
    "    def add_tree(self, tree):\n",
    "        self.trees.append(tree)\n",
    "        \n",
    "    def total_biomass(self, species=None):\n",
    "        if species:\n",
    "            trees_in = [t for t in self.trees if t.species == species]\n",
    "        else:\n",
    "            trees_in = self.trees\n",
    "        total_biomass = sum([t.estimate_biomass() for t in trees_in])\n",
    "        return total_biomass\n",
    "        \n",
    "forest = Forest()\n",
    "for ri, row in tree_obs.iterrows():\n",
    "    # first make a tree\n",
    "    tree = Tree(species=row['species'], height=row['h'], dbh=row['dbh'])\n",
    "    # then add tree to forest\n",
    "    forest.add_tree(tree)"
   ]
  },
  {
   "cell_type": "code",
   "execution_count": 24,
   "id": "8936827c",
   "metadata": {
    "slideshow": {
     "slide_type": "fragment"
    }
   },
   "outputs": [
    {
     "data": {
      "text/plain": [
       "0.13381341562692708"
      ]
     },
     "execution_count": 24,
     "metadata": {},
     "output_type": "execute_result"
    }
   ],
   "source": [
    "forest.total_biomass('rowan')"
   ]
  },
  {
   "cell_type": "code",
   "execution_count": null,
   "id": "b5bedb2c",
   "metadata": {},
   "outputs": [],
   "source": []
  }
 ],
 "metadata": {
  "celltoolbar": "Slideshow",
  "kernelspec": {
   "display_name": "Python 3 (ipykernel)",
   "language": "python",
   "name": "python3"
  },
  "language_info": {
   "codemirror_mode": {
    "name": "ipython",
    "version": 3
   },
   "file_extension": ".py",
   "mimetype": "text/x-python",
   "name": "python",
   "nbconvert_exporter": "python",
   "pygments_lexer": "ipython3",
   "version": "3.9.7"
  }
 },
 "nbformat": 4,
 "nbformat_minor": 5
}
