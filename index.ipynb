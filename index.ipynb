{
 "cells": [
  {
   "cell_type": "markdown",
   "id": "e4cfd1e0",
   "metadata": {
    "slideshow": {
     "slide_type": "slide"
    }
   },
   "source": [
    "## Classes in Python\n",
    "\n",
    "- Classes are 'a means of bundling data and functionality together'\n",
    "- They are a blueprint for an object.\n",
    "- They are usually written with each word capitalisted e.g. `MyClass`\n",
    "- Some classes you're probably familiar with are:\n",
    "```python\n",
    "numpy.Array\n",
    "pandas.DataFrame\n",
    "xarray.DataSet\n",
    "```"
   ]
  },
  {
   "cell_type": "markdown",
   "id": "49ba70d4",
   "metadata": {
    "slideshow": {
     "slide_type": "slide"
    }
   },
   "source": [
    "## Simple example\n",
    "\n",
    "Let's create a class to represent a person\n",
    "We will give them some attributes"
   ]
  },
  {
   "cell_type": "code",
   "execution_count": 1,
   "id": "1bdb0023",
   "metadata": {
    "slideshow": {
     "slide_type": "fragment"
    }
   },
   "outputs": [
    {
     "name": "stdout",
     "output_type": "stream",
     "text": [
      "this thing is a homo sapiens with 2 legs\n"
     ]
    }
   ],
   "source": [
    "class Person():\n",
    "    species = 'homo sapiens'\n",
    "    number_of_legs = 2\n",
    "    \n",
    "print(f'this thing is a {Person.species} with {Person.number_of_legs} legs')"
   ]
  },
  {
   "cell_type": "raw",
   "id": "855e1f2f",
   "metadata": {
    "slideshow": {
     "slide_type": "subslide"
    }
   },
   "source": [
    "- In our blueprint for a person we defined them as a homo sapiens with two legs\n",
    "- But how about creating a specific person, i.e. creating an instance of a class\n",
    "- We need to expand the `Person` definition to include initial arguments, for this we add an `__init__` method"
   ]
  },
  {
   "cell_type": "code",
   "execution_count": 2,
   "id": "db3baab8",
   "metadata": {
    "slideshow": {
     "slide_type": "fragment"
    }
   },
   "outputs": [
    {
     "name": "stdout",
     "output_type": "stream",
     "text": [
      "this thing is a homo sapiens with 2 legs\n",
      "it is called Ben and it is 27 years old\n"
     ]
    }
   ],
   "source": [
    "class Person():\n",
    "    species = 'homo sapiens'\n",
    "    number_of_legs = 2\n",
    "    \n",
    "    def __init__(self, name, age):\n",
    "        self.name = name\n",
    "        self.age = age\n",
    "        \n",
    "# create an instance of person called Ben who is 27 years old\n",
    "person = Person(name='Ben', age=27)\n",
    "\n",
    "# the general class attributes are still there\n",
    "print(f'this thing is a {person.species} with {person.number_of_legs} legs')\n",
    "\n",
    "# and there are also attributes of the instance added\n",
    "print(f'it is called {person.name} and it is {person.age} years old')"
   ]
  },
  {
   "cell_type": "markdown",
   "id": "8144ffe5",
   "metadata": {
    "slideshow": {
     "slide_type": "subslide"
    }
   },
   "source": [
    "let's give it the ability to speak"
   ]
  },
  {
   "cell_type": "code",
   "execution_count": 3,
   "id": "011212d8",
   "metadata": {
    "slideshow": {
     "slide_type": "fragment"
    }
   },
   "outputs": [
    {
     "name": "stdout",
     "output_type": "stream",
     "text": [
      "fine thanks\n",
      "I am called Ben and I am 27 years old\n"
     ]
    }
   ],
   "source": [
    "class Person():\n",
    "    species = 'homo sapiens'\n",
    "    number_of_legs = 2\n",
    "    \n",
    "    def __init__(self, name, age):\n",
    "        self.name = name\n",
    "        self.age = age\n",
    "        \n",
    "    def ask(self, question):\n",
    "        \n",
    "        if question == 'how are you?':\n",
    "            print('fine thanks')\n",
    "        elif question == 'please identify yourself':\n",
    "            print(f'I am called {person.name} and I am {person.age} years old')\n",
    "        \n",
    "# create an instance of person called Ben who is 27 years old\n",
    "person = Person(name='Ben', age=27)\n",
    "\n",
    "# ask it how it is\n",
    "person.ask('how are you?')\n",
    "\n",
    "# ask it to identify itself\n",
    "person.ask('please identify yourself')\n"
   ]
  },
  {
   "cell_type": "markdown",
   "id": "5f18d6e5",
   "metadata": {
    "slideshow": {
     "slide_type": "subslide"
    }
   },
   "source": [
    "we can also edit its attributes"
   ]
  },
  {
   "cell_type": "code",
   "execution_count": 4,
   "id": "9506a428",
   "metadata": {
    "slideshow": {
     "slide_type": "fragment"
    }
   },
   "outputs": [
    {
     "name": "stdout",
     "output_type": "stream",
     "text": [
      "I am called Claudia and I am 31 years old\n"
     ]
    }
   ],
   "source": [
    "# lets age it by 4 years, change its name  and ask it to identify itself again\n",
    "person.age += 4\n",
    "person.name = 'Claudia'\n",
    "person.ask('please identify yourself')"
   ]
  },
  {
   "cell_type": "markdown",
   "id": "e68670bf",
   "metadata": {
    "slideshow": {
     "slide_type": "slide"
    }
   },
   "source": [
    "## More useful example\n",
    "\n",
    "Let's say we have a dataset of tree observations and we want to create a tree class to store the data"
   ]
  },
  {
   "cell_type": "code",
   "execution_count": 5,
   "id": "ca76d6de",
   "metadata": {
    "slideshow": {
     "slide_type": "fragment"
    }
   },
   "outputs": [],
   "source": [
    "class Tree():\n",
    "    def __init__(self, species, height, dbh):\n",
    "        self.species = species\n",
    "        self.height = height\n",
    "        self.dbh = dbh"
   ]
  },
  {
   "cell_type": "markdown",
   "id": "0132fd38",
   "metadata": {
    "slideshow": {
     "slide_type": "subslide"
    }
   },
   "source": [
    "We create a blueprint for a tree, which is initialised with species, height and diameter at breast height (dbh)"
   ]
  },
  {
   "cell_type": "code",
   "execution_count": 6,
   "id": "8eaf3c24",
   "metadata": {
    "slideshow": {
     "slide_type": "fragment"
    }
   },
   "outputs": [
    {
     "name": "stdout",
     "output_type": "stream",
     "text": [
      "the tree is an oak, 9.5m tall with a diameter of 3.2m\n"
     ]
    }
   ],
   "source": [
    "# for example, a large oak tree\n",
    "tree = Tree(species='oak', height=9.5, dbh=3.2)\n",
    "print(f'the tree is an {tree.species}, {tree.height}m tall with a diameter of {tree.dbh}m')"
   ]
  },
  {
   "cell_type": "markdown",
   "id": "ec3bb80c",
   "metadata": {
    "slideshow": {
     "slide_type": "subslide"
    }
   },
   "source": [
    "Another way to achieve the same result would be to add a string method (`__str__`) to the class"
   ]
  },
  {
   "cell_type": "code",
   "execution_count": 7,
   "id": "bb5d70fb",
   "metadata": {
    "slideshow": {
     "slide_type": "fragment"
    }
   },
   "outputs": [
    {
     "name": "stdout",
     "output_type": "stream",
     "text": [
      "<__main__.Tree object at 0x7fa889cf92e0>\n"
     ]
    }
   ],
   "source": [
    "# currently if you print the class this happens:\n",
    "print(tree)"
   ]
  },
  {
   "cell_type": "code",
   "execution_count": 8,
   "id": "d781d6f1",
   "metadata": {
    "slideshow": {
     "slide_type": "subslide"
    }
   },
   "outputs": [
    {
     "name": "stdout",
     "output_type": "stream",
     "text": [
      "the tree is an oak, 9.5m tall with a diameter of 3.2m\n"
     ]
    }
   ],
   "source": [
    "class Tree():\n",
    "    def __init__(self, species, height, dbh):\n",
    "        self.species = species\n",
    "        self.height = height\n",
    "        self.dbh = dbh\n",
    "        biomass_estimation_table = {'oak':(0.994, -2.944, 1.935, 0.738),\n",
    "                                    'birch':(0.575, -2.575, 1.827, 0.823)}\n",
    "        self.biomass_estimators = biomass_estimation_table[self.species]\n",
    "    \n",
    "    # add this method\n",
    "    def __str__(self):\n",
    "        return f'the tree is an {tree.species}, {tree.height}m tall with a diameter of {tree.dbh}m'\n",
    "\n",
    "# we have redefined the class so we need to also re-initialise the tree instance\n",
    "tree = Tree(species='oak', height=9.5, dbh=3.2)\n",
    "# now if we print it we get:\n",
    "print(tree)"
   ]
  },
  {
   "cell_type": "markdown",
   "id": "2ea59633",
   "metadata": {
    "slideshow": {
     "slide_type": "subslide"
    }
   },
   "source": [
    "We can add a method to the function to estimate the tree's biomass"
   ]
  },
  {
   "cell_type": "code",
   "execution_count": 9,
   "id": "eade6a62",
   "metadata": {
    "slideshow": {
     "slide_type": "fragment"
    }
   },
   "outputs": [],
   "source": [
    "import numpy as np\n",
    "\n",
    "class Tree():\n",
    "    \n",
    "    # add this table of parameters for the calculation\n",
    "    biomass_estimation_table = {'oak':(0.994, -2.944, 1.935, 0.738),\n",
    "                                'birch':(0.575, -2.575, 1.827, 0.823),\n",
    "                                'rowan':(0.823, -2.823, 1.204, 1.121)}\n",
    "    \n",
    "    def __init__(self, species, height, dbh):\n",
    "        self.species = species\n",
    "        self.height = height\n",
    "        self.dbh = dbh\n",
    "        \n",
    "        \"\"\"now when the tree is initialised, the class retrieves the correct parameters for\n",
    "            biomass estimation depending on species\"\"\"\n",
    "        self.biomass_estimators = self.biomass_estimation_table[self.species]\n",
    "        # note this takes place within __init__\n",
    "\n",
    "    def __str__(self):\n",
    "        return f'{self.species} tree of height {self.height}m and dbh {self.dbh}m'\n",
    "\n",
    "    def estimate_biomass(self):\n",
    "        #λ × exp(p0 + p1 × lnD + p2 × lnH)\n",
    "        λ, p0, p1, p2 = self.biomass_estimators\n",
    "        biomass = λ * np.exp(p0 + p1 * np.log(self.dbh) + p2 * np.log(self.height))\n",
    "        return biomass"
   ]
  },
  {
   "cell_type": "markdown",
   "id": "e51cce44",
   "metadata": {
    "slideshow": {
     "slide_type": "subslide"
    }
   },
   "source": [
    "Now we can estimate the biomass (in tonnes) of the oak\n"
   ]
  },
  {
   "cell_type": "code",
   "execution_count": 14,
   "id": "d2a71b42",
   "metadata": {
    "slideshow": {
     "slide_type": "fragment"
    }
   },
   "outputs": [
    {
     "name": "stdout",
     "output_type": "stream",
     "text": [
      "the biomass of the oak is 2.62 tonnes\n"
     ]
    }
   ],
   "source": [
    "tree = Tree(species='oak', height=9.5, dbh=3.2)\n",
    "print(f'the biomass of the {tree.species} is {tree.estimate_biomass():.2f} tonnes')"
   ]
  },
  {
   "cell_type": "markdown",
   "id": "283fef6b",
   "metadata": {
    "slideshow": {
     "slide_type": "subslide"
    }
   },
   "source": [
    "We can add a method to grow the tree (to keep things simple by a % scaling)\n",
    "\n",
    "```python\n",
    "def grow(self, percent):\n",
    "        self.height = self.height * (1 + percent / 100)\n",
    "        self.dbh = self.dbh * (1 + percent / 100)\n",
    "```"
   ]
  },
  {
   "cell_type": "code",
   "execution_count": 16,
   "id": "6742901d",
   "metadata": {
    "slideshow": {
     "slide_type": "skip"
    }
   },
   "outputs": [],
   "source": [
    "class Tree():\n",
    "    \n",
    "    # add this table of parameters for the calculation\n",
    "    biomass_estimation_table = {'oak':(0.994, -2.944, 1.935, 0.738),\n",
    "                                'birch':(0.575, -2.575, 1.827, 0.823),\n",
    "                                'rowan':(0.823, -2.823, 1.204, 1.121)}\n",
    "    \n",
    "    def __init__(self, species, height, dbh):\n",
    "        self.species = species\n",
    "        self.height = height\n",
    "        self.dbh = dbh\n",
    "        \n",
    "        self.biomass_estimators = self.biomass_estimation_table[self.species]\n",
    "\n",
    "    def __str__(self):\n",
    "        return f'{self.species} tree of height {self.height}m and dbh {self.dbh}m'\n",
    "\n",
    "    def estimate_biomass(self):\n",
    "        #λ × exp(p0 + p1 × lnD + p2 × lnH)\n",
    "        λ, p0, p1, p2 = self.biomass_estimators\n",
    "        biomass = λ * np.exp(p0 + p1 * np.log(self.dbh) + p2 * np.log(self.height))\n",
    "        return biomass\n",
    "    \n",
    "    def grow(self, percent):\n",
    "        self.height = self.height * (1 + percent / 100)\n",
    "        self.dbh = self.dbh * (1 + percent / 100)"
   ]
  },
  {
   "cell_type": "code",
   "execution_count": 17,
   "id": "60a9f245",
   "metadata": {
    "slideshow": {
     "slide_type": "subslide"
    }
   },
   "outputs": [
    {
     "name": "stdout",
     "output_type": "stream",
     "text": [
      "the biomass of the oak is 2.62 tonnes\n"
     ]
    }
   ],
   "source": [
    "# so if we calculate the biomass of our oak again:\n",
    "tree = Tree(species='oak', height=9.5, dbh=3.2)\n",
    "print(f'the biomass of the {tree.species} is {tree.estimate_biomass():.2f} tonnes')"
   ]
  },
  {
   "cell_type": "code",
   "execution_count": 18,
   "id": "2fa4a013",
   "metadata": {
    "slideshow": {
     "slide_type": "fragment"
    }
   },
   "outputs": [
    {
     "name": "stdout",
     "output_type": "stream",
     "text": [
      "the biomass of the oak is 4.26 tonnes\n"
     ]
    }
   ],
   "source": [
    "# then we grow the tree by 20% and calculate it again\n",
    "tree.grow(20)\n",
    "print(f'the biomass of the {tree.species} is {tree.estimate_biomass():.2f} tonnes')"
   ]
  },
  {
   "cell_type": "code",
   "execution_count": 15,
   "id": "26c1f123",
   "metadata": {},
   "outputs": [
    {
     "data": {
      "text/html": [
       "<div>\n",
       "<style scoped>\n",
       "    .dataframe tbody tr th:only-of-type {\n",
       "        vertical-align: middle;\n",
       "    }\n",
       "\n",
       "    .dataframe tbody tr th {\n",
       "        vertical-align: top;\n",
       "    }\n",
       "\n",
       "    .dataframe thead th {\n",
       "        text-align: right;\n",
       "    }\n",
       "</style>\n",
       "<table border=\"1\" class=\"dataframe\">\n",
       "  <thead>\n",
       "    <tr style=\"text-align: right;\">\n",
       "      <th></th>\n",
       "      <th>dbh</th>\n",
       "      <th>h</th>\n",
       "      <th>species</th>\n",
       "    </tr>\n",
       "  </thead>\n",
       "  <tbody>\n",
       "    <tr>\n",
       "      <th>0</th>\n",
       "      <td>2.5</td>\n",
       "      <td>5.0</td>\n",
       "      <td>oak</td>\n",
       "    </tr>\n",
       "    <tr>\n",
       "      <th>1</th>\n",
       "      <td>1.4</td>\n",
       "      <td>3.1</td>\n",
       "      <td>birch</td>\n",
       "    </tr>\n",
       "    <tr>\n",
       "      <th>2</th>\n",
       "      <td>1.8</td>\n",
       "      <td>3.4</td>\n",
       "      <td>birch</td>\n",
       "    </tr>\n",
       "    <tr>\n",
       "      <th>3</th>\n",
       "      <td>5.2</td>\n",
       "      <td>8.1</td>\n",
       "      <td>oak</td>\n",
       "    </tr>\n",
       "    <tr>\n",
       "      <th>4</th>\n",
       "      <td>2.5</td>\n",
       "      <td>5.2</td>\n",
       "      <td>birch</td>\n",
       "    </tr>\n",
       "  </tbody>\n",
       "</table>\n",
       "</div>"
      ],
      "text/plain": [
       "   dbh    h species\n",
       "0  2.5  5.0     oak\n",
       "1  1.4  3.1   birch\n",
       "2  1.8  3.4   birch\n",
       "3  5.2  8.1     oak\n",
       "4  2.5  5.2   birch"
      ]
     },
     "execution_count": 15,
     "metadata": {},
     "output_type": "execute_result"
    }
   ],
   "source": [
    "import pandas as pd\n",
    "obs = pd.read_csv('tree_obs.csv')\n",
    "obs.head()"
   ]
  },
  {
   "cell_type": "code",
   "execution_count": null,
   "id": "7a94ecbc",
   "metadata": {},
   "outputs": [],
   "source": [
    "class Forest():\n",
    "    def __init__(self, trees):\n",
    "        self.trees = trees\n",
    "        # check if trees is a list of trees\n",
    "        if not any(isinstance(t, Tree) for t in self.trees):\n",
    "            raise TypeError('trees is not a list of Trees')\n",
    "            \n",
    "\n",
    "    def __getitem__(self, item):\n",
    "        return self.trees[item]\n",
    "\n",
    "    def add_tree(self, tree):\n",
    "        self.trees.append(tree)\n",
    "        \n",
    "        \n",
    "    \n",
    "#%% create tree\n",
    "tree = Tree(species='oak', height=10, dbh=2)\n",
    "print(tree.estimate_biomass())\n",
    "tree.grow(10)\n",
    "print(tree.estimate_biomass())\n",
    "\n",
    "\n",
    "\n",
    "#%% create forest\n",
    "\n",
    "oak_tree = Tree(species='oak', height=10, dbh=2)\n",
    "birch_tree = Tree(species='birch', height=5, dbh=.6)\n",
    "\n",
    "forest = Forest(trees = [birch_tree, oak_tree])\n",
    "\n",
    "#%% add more trees\n",
    "\n",
    "tree_obs = pd.read_csv('./tree_obs.csv')\n",
    "\n",
    "for ri, row in tree_obs.iterrows():\n",
    "    \n",
    "    tree = Tree(species=row['species'], height=row['h'], dbh=row['dbh'])\n",
    "    \n",
    "    forest.add_tree(tree)"
   ]
  }
 ],
 "metadata": {
  "celltoolbar": "Slideshow",
  "kernelspec": {
   "display_name": "Python 3 (ipykernel)",
   "language": "python",
   "name": "python3"
  },
  "language_info": {
   "codemirror_mode": {
    "name": "ipython",
    "version": 3
   },
   "file_extension": ".py",
   "mimetype": "text/x-python",
   "name": "python",
   "nbconvert_exporter": "python",
   "pygments_lexer": "ipython3",
   "version": "3.9.7"
  }
 },
 "nbformat": 4,
 "nbformat_minor": 5
}
