{
 "cells": [
  {
   "cell_type": "markdown",
   "id": "e4cfd1e0",
   "metadata": {
    "slideshow": {
     "slide_type": "slide"
    }
   },
   "source": [
    "## Classes in Python\n",
    "\n",
    "- Classes are 'a means of bundling data and functionality together'\n",
    "- They are a blueprint for an object.\n",
    "- They are usually written with each word capitalisted e.g. `MyClass`\n",
    "- Some classes you're probably familiar with are:\n",
    "```python\n",
    "numpy.Array\n",
    "pandas.DataFrame\n",
    "xarray.DataSet\n",
    "```"
   ]
  },
  {
   "cell_type": "markdown",
   "id": "49ba70d4",
   "metadata": {
    "slideshow": {
     "slide_type": "slide"
    }
   },
   "source": [
    "## Simple example\n",
    "\n",
    "Let's create a class to represent a person and give them some attributes"
   ]
  },
  {
   "cell_type": "code",
   "execution_count": 1,
   "id": "5b8beb3f",
   "metadata": {
    "slideshow": {
     "slide_type": "fragment"
    }
   },
   "outputs": [],
   "source": [
    "class Person():\n",
    "    species = 'homo sapiens'\n",
    "    number_of_legs = 'two'"
   ]
  },
  {
   "cell_type": "code",
   "execution_count": 2,
   "id": "db6cbaa6",
   "metadata": {
    "slideshow": {
     "slide_type": "fragment"
    }
   },
   "outputs": [
    {
     "name": "stdout",
     "output_type": "stream",
     "text": [
      "species = homo sapiens\n"
     ]
    }
   ],
   "source": [
    "print('species = '+ Person.species)  "
   ]
  },
  {
   "cell_type": "code",
   "execution_count": 3,
   "id": "1bdb0023",
   "metadata": {
    "slideshow": {
     "slide_type": "fragment"
    }
   },
   "outputs": [
    {
     "name": "stdout",
     "output_type": "stream",
     "text": [
      "number of legs = two\n"
     ]
    }
   ],
   "source": [
    "print('number of legs = '+ Person.number_of_legs)"
   ]
  },
  {
   "cell_type": "markdown",
   "id": "5be70fd7",
   "metadata": {
    "slideshow": {
     "slide_type": "subslide"
    }
   },
   "source": [
    "### Class instances\n",
    "\n",
    "- In our blueprint for a person we defined them as a homo sapiens with two legs\n",
    "- But how about creating a specific person, i.e. creating an instance of a class\n",
    "- We need to expand the `Person` definition to include initial arguments, for this we add an `__init__` method"
   ]
  },
  {
   "cell_type": "code",
   "execution_count": null,
   "id": "819e765c",
   "metadata": {
    "slideshow": {
     "slide_type": "fragment"
    }
   },
   "outputs": [],
   "source": [
    "class Person():\n",
    "    species = 'homo sapiens'\n",
    "    number_of_legs = 2\n",
    "    \n",
    "    def __init__(self, name, age):\n",
    "        self.name = name\n",
    "        self.age = age\n",
    "        \n",
    "# create an instance of person called Ben who is 27 years old\n",
    "person_a = Person(name='Ben', age=27)"
   ]
  },
  {
   "cell_type": "code",
   "execution_count": null,
   "id": "fcae96aa",
   "metadata": {
    "slideshow": {
     "slide_type": "fragment"
    }
   },
   "outputs": [],
   "source": [
    "# the general class attributes are still there\n",
    "print(f'this class is a {person_a.species} with {person_a.number_of_legs} legs')"
   ]
  },
  {
   "cell_type": "code",
   "execution_count": null,
   "id": "aba31143",
   "metadata": {
    "slideshow": {
     "slide_type": "fragment"
    }
   },
   "outputs": [],
   "source": [
    "# and there are also attributes of the instance added\n",
    "print(f'this instance is called {person_a.name} and it is {person_a.age} years old')"
   ]
  },
  {
   "cell_type": "code",
   "execution_count": 31,
   "id": "db3baab8",
   "metadata": {
    "slideshow": {
     "slide_type": "fragment"
    }
   },
   "outputs": [
    {
     "name": "stdout",
     "output_type": "stream",
     "text": [
      "this class is a homo sapiens with 2 legs\n",
      "this instance is called Ben and it is 27 years old\n",
      "this instance is called Dom and it is 99 years old\n"
     ]
    }
   ],
   "source": [
    "# create a different person\n",
    "person_b = Person(name='Dom', age=99)\n",
    "print(f'this instance is called {person_b.name} and it is {person_b.age} years old')"
   ]
  },
  {
   "cell_type": "markdown",
   "id": "9b03c9fe",
   "metadata": {
    "slideshow": {
     "slide_type": "fragment"
    }
   },
   "source": [
    "- `species` and `number_of_legs` are class attributes and `age` are instance attributes\n",
    "- `self` is a special keyword that represents the instance of a class\n",
    "- within the class it can be accessed like a dictionary\n",
    "- it should be passed to each method within a class"
   ]
  },
  {
   "cell_type": "markdown",
   "id": "8144ffe5",
   "metadata": {
    "slideshow": {
     "slide_type": "subslide"
    }
   },
   "source": [
    "### Class methods\n",
    "\n",
    "let's give our `Person` the ability to speak by adding an `ask` method"
   ]
  },
  {
   "cell_type": "code",
   "execution_count": 5,
   "id": "ceb68681",
   "metadata": {
    "slideshow": {
     "slide_type": "fragment"
    }
   },
   "outputs": [],
   "source": [
    "class Person():\n",
    "    species = 'homo sapiens'\n",
    "    number_of_legs = 2\n",
    "    \n",
    "    def __init__(self, name, age):\n",
    "        self.name = name\n",
    "        self.age = age\n",
    "        \n",
    "    def ask(self, question):\n",
    "        \n",
    "        if question == 'how are you?':\n",
    "            print('fine thanks')\n",
    "        elif question == 'please identify yourself':\n",
    "            print(f'I am called {self.name} and I am {self.age} years old')"
   ]
  },
  {
   "cell_type": "code",
   "execution_count": 6,
   "id": "4a87afe6",
   "metadata": {
    "slideshow": {
     "slide_type": "fragment"
    }
   },
   "outputs": [],
   "source": [
    "# create an instance of person called Ben who is 27 years old\n",
    "person = Person(name='Ben', age=27)"
   ]
  },
  {
   "cell_type": "code",
   "execution_count": 7,
   "id": "b008b8ab",
   "metadata": {
    "slideshow": {
     "slide_type": "fragment"
    }
   },
   "outputs": [
    {
     "name": "stdout",
     "output_type": "stream",
     "text": [
      "fine thanks\n"
     ]
    }
   ],
   "source": [
    "# ask it how it is\n",
    "person.ask('how are you?')"
   ]
  },
  {
   "cell_type": "code",
   "execution_count": 8,
   "id": "011212d8",
   "metadata": {
    "slideshow": {
     "slide_type": "fragment"
    }
   },
   "outputs": [
    {
     "name": "stdout",
     "output_type": "stream",
     "text": [
      "I am called Ben and I am 27 years old\n"
     ]
    }
   ],
   "source": [
    "# ask it to identify itself\n",
    "person.ask('please identify yourself')"
   ]
  },
  {
   "cell_type": "markdown",
   "id": "5f18d6e5",
   "metadata": {
    "slideshow": {
     "slide_type": "subslide"
    }
   },
   "source": [
    "Class attributes can be modified within an instance"
   ]
  },
  {
   "cell_type": "code",
   "execution_count": 9,
   "id": "9506a428",
   "metadata": {
    "slideshow": {
     "slide_type": "fragment"
    }
   },
   "outputs": [
    {
     "name": "stdout",
     "output_type": "stream",
     "text": [
      "I am called Claudia and I am 31 years old\n"
     ]
    }
   ],
   "source": [
    "# lets age it by 4 years, change its name  and ask it to identify itself again\n",
    "person.age += 4\n",
    "person.name = 'Margret'\n",
    "person.ask('please identify yourself')"
   ]
  },
  {
   "cell_type": "markdown",
   "id": "e68670bf",
   "metadata": {
    "slideshow": {
     "slide_type": "slide"
    }
   },
   "source": [
    "## More useful example\n",
    "\n",
    "Let's say we have a dataset of tree observations and we want to create a `Tree` class to store the data"
   ]
  },
  {
   "cell_type": "code",
   "execution_count": 10,
   "id": "8e28b898",
   "metadata": {
    "slideshow": {
     "slide_type": "fragment"
    }
   },
   "outputs": [],
   "source": [
    "class Tree():\n",
    "    def __init__(self, species, height, dbh):\n",
    "        self.species = species\n",
    "        self.height = height\n",
    "        self.dbh = dbh"
   ]
  },
  {
   "cell_type": "markdown",
   "id": "c74fd9e6",
   "metadata": {
    "slideshow": {
     "slide_type": "fragment"
    }
   },
   "source": [
    "We create a blueprint for a tree, which is initialised with `species`, `height` and `dbh` (diameter at breast height)"
   ]
  },
  {
   "cell_type": "code",
   "execution_count": 11,
   "id": "ede940bc",
   "metadata": {
    "slideshow": {
     "slide_type": "fragment"
    }
   },
   "outputs": [
    {
     "name": "stdout",
     "output_type": "stream",
     "text": [
      "the tree is an oak, 9.5m tall with a diameter of 3.2m\n"
     ]
    }
   ],
   "source": [
    "# for example, a large oak tree\n",
    "tree = Tree(species='oak', height=9.5, dbh=3.2)\n",
    "print(f'the tree is an {tree.species}, {tree.height}m tall with a diameter of {tree.dbh}m')"
   ]
  },
  {
   "cell_type": "markdown",
   "id": "80cb2fb6",
   "metadata": {
    "slideshow": {
     "slide_type": "subslide"
    }
   },
   "source": [
    "- Another way to achieve the same result would be to add a string method (`__str__`) to the class\n",
    "- A `__str__` method tells the class what to do when it is printed"
   ]
  },
  {
   "cell_type": "code",
   "execution_count": 12,
   "id": "4dc6470b",
   "metadata": {
    "slideshow": {
     "slide_type": "fragment"
    }
   },
   "outputs": [
    {
     "name": "stdout",
     "output_type": "stream",
     "text": [
      "<__main__.Tree object at 0x7f27800dc820>\n"
     ]
    }
   ],
   "source": [
    "# currently if you print the class this happens:\n",
    "print(tree)"
   ]
  },
  {
   "cell_type": "code",
   "execution_count": 13,
   "id": "06d88b42",
   "metadata": {
    "slideshow": {
     "slide_type": "subslide"
    }
   },
   "outputs": [
    {
     "name": "stdout",
     "output_type": "stream",
     "text": [
      "the tree is an oak, 9.5m tall with a diameter of 3.2m\n"
     ]
    }
   ],
   "source": [
    "class Tree():\n",
    "    def __init__(self, species, height, dbh):\n",
    "        self.species = species\n",
    "        self.height = height\n",
    "        self.dbh = dbh\n",
    "        biomass_estimation_table = {'oak':(0.994, -2.944, 1.935, 0.738),\n",
    "                                    'birch':(0.575, -2.575, 1.827, 0.823)}\n",
    "        self.biomass_estimators = biomass_estimation_table[self.species]\n",
    "    \n",
    "    # add this method\n",
    "    def __str__(self):\n",
    "        return f'the tree is an {tree.species}, {tree.height}m tall with a diameter of {tree.dbh}m'\n",
    "\n",
    "# we have redefined the class so we need to also re-initialise the tree instance\n",
    "tree = Tree(species='oak', height=9.5, dbh=3.2)\n",
    "# now if we print it we get:\n",
    "print(tree)"
   ]
  },
  {
   "cell_type": "markdown",
   "id": "896b09b8",
   "metadata": {
    "slideshow": {
     "slide_type": "subslide"
    }
   },
   "source": [
    "We can add a method to the function to estimate the tree's biomass"
   ]
  },
  {
   "cell_type": "code",
   "execution_count": 14,
   "id": "3d8f4665",
   "metadata": {
    "slideshow": {
     "slide_type": "fragment"
    }
   },
   "outputs": [],
   "source": [
    "import numpy as np\n",
    "\n",
    "class Tree():\n",
    "    \n",
    "    # add this table of parameters for the calculation\n",
    "    biomass_estimation_table = {'oak':(0.994, -2.944, 1.935, 0.738),\n",
    "                                'birch':(0.575, -2.575, 1.827, 0.823),\n",
    "                                'rowan':(0.823, -2.823, 1.204, 1.121)}\n",
    "    \n",
    "    def __init__(self, species, height, dbh):\n",
    "        self.species = species\n",
    "        self.height = height\n",
    "        self.dbh = dbh\n",
    "        \"\"\"now when the tree is initialised, the class retrieves the correct parameters for\n",
    "            biomass estimation depending on species\"\"\"\n",
    "        self.biomass_estimators = self.biomass_estimation_table[self.species]\n",
    "        # this takes place within __init__\n",
    "\n",
    "    def __str__(self):\n",
    "        return f'{self.species} tree of height {self.height}m and dbh {self.dbh}m'\n",
    "\n",
    "    def estimate_biomass(self):\n",
    "        #λ × exp(p0 + p1 × lnD + p2 × lnH)\n",
    "        λ, p0, p1, p2 = self.biomass_estimators\n",
    "        biomass = λ * np.exp(p0 + p1 * np.log(self.dbh) + p2 * np.log(self.height))\n",
    "        return biomass"
   ]
  },
  {
   "cell_type": "markdown",
   "id": "09d99e40",
   "metadata": {
    "slideshow": {
     "slide_type": "subslide"
    }
   },
   "source": [
    "Now we can estimate the biomass (in tonnes) of the oak\n"
   ]
  },
  {
   "cell_type": "code",
   "execution_count": 15,
   "id": "b0693750",
   "metadata": {
    "slideshow": {
     "slide_type": "fragment"
    }
   },
   "outputs": [
    {
     "name": "stdout",
     "output_type": "stream",
     "text": [
      "the biomass of the oak is 2.62 tonnes\n"
     ]
    }
   ],
   "source": [
    "tree = Tree(species='oak', height=9.5, dbh=3.2)\n",
    "print(f'the biomass of the {tree.species} is {tree.estimate_biomass():.2f} tonnes')"
   ]
  },
  {
   "cell_type": "markdown",
   "id": "57247856",
   "metadata": {
    "slideshow": {
     "slide_type": "subslide"
    }
   },
   "source": [
    "We can add a method to grow the tree (to keep things simple by a % scaling)\n",
    "\n",
    "```python\n",
    "def grow(self, percent):\n",
    "        self.height = self.height * (1 + percent / 100)\n",
    "        self.dbh = self.dbh * (1 + percent / 100)\n",
    "```"
   ]
  },
  {
   "cell_type": "code",
   "execution_count": 16,
   "id": "5703b3e0",
   "metadata": {
    "slideshow": {
     "slide_type": "skip"
    }
   },
   "outputs": [],
   "source": [
    "class Tree():\n",
    "    \n",
    "    # add this table of parameters for the calculation\n",
    "    biomass_estimation_table = {'oak':(0.994, -2.944, 1.935, 0.738),\n",
    "                                'birch':(0.575, -2.575, 1.827, 0.823),\n",
    "                                'rowan':(0.823, -2.823, 1.204, 1.121)}\n",
    "    \n",
    "    def __init__(self, species, height, dbh):\n",
    "        self.species = species\n",
    "        self.height = height\n",
    "        self.dbh = dbh\n",
    "        \n",
    "        self.biomass_estimators = self.biomass_estimation_table[self.species]\n",
    "\n",
    "    def __str__(self):\n",
    "        return f'{self.species} tree of height {self.height}m and dbh {self.dbh}m'\n",
    "\n",
    "    def estimate_biomass(self):\n",
    "        #λ × exp(p0 + p1 × lnD + p2 × lnH)\n",
    "        λ, p0, p1, p2 = self.biomass_estimators\n",
    "        biomass = λ * np.exp(p0 + p1 * np.log(self.dbh) + p2 * np.log(self.height))\n",
    "        return biomass\n",
    "    \n",
    "    def grow(self, percent):\n",
    "        self.height = self.height * (1 + percent / 100)\n",
    "        self.dbh = self.dbh * (1 + percent / 100)"
   ]
  },
  {
   "cell_type": "code",
   "execution_count": 17,
   "id": "73ddb51b",
   "metadata": {
    "slideshow": {
     "slide_type": "subslide"
    }
   },
   "outputs": [
    {
     "name": "stdout",
     "output_type": "stream",
     "text": [
      "the biomass of the oak is 2.62 tonnes\n"
     ]
    }
   ],
   "source": [
    "# so if we calculate the biomass of our oak again:\n",
    "tree = Tree(species='oak', height=9.5, dbh=3.2)\n",
    "print(f'the biomass of the {tree.species} is {tree.estimate_biomass():.2f} tonnes')"
   ]
  },
  {
   "cell_type": "code",
   "execution_count": 18,
   "id": "a004591d",
   "metadata": {
    "slideshow": {
     "slide_type": "fragment"
    }
   },
   "outputs": [
    {
     "name": "stdout",
     "output_type": "stream",
     "text": [
      "the biomass of the oak is 4.26 tonnes\n"
     ]
    }
   ],
   "source": [
    "# then we grow the tree by 20% and calculate it again\n",
    "tree.grow(20)\n",
    "print(f'the biomass of the {tree.species} is {tree.estimate_biomass():.2f} tonnes')"
   ]
  },
  {
   "cell_type": "markdown",
   "id": "59cbbfba",
   "metadata": {
    "slideshow": {
     "slide_type": "slide"
    }
   },
   "source": [
    "We can also create a forest class to contain the trees:"
   ]
  },
  {
   "cell_type": "code",
   "execution_count": 19,
   "id": "8e933f59",
   "metadata": {
    "slideshow": {
     "slide_type": "fragment"
    }
   },
   "outputs": [
    {
     "name": "stdout",
     "output_type": "stream",
     "text": [
      "there are 0 trees in the forest\n"
     ]
    }
   ],
   "source": [
    "class Forest():\n",
    "    def __init__(self, trees=[]):\n",
    "        self.trees = trees\n",
    "    \n",
    "    def tree_count(self):\n",
    "        return len(self.trees)\n",
    "\n",
    "    # this makes the forest act like a list (i.e. subscriptable)\n",
    "    def __getitem__(self, item):\n",
    "        return self.trees[item]\n",
    "\n",
    "    def add_tree(self, tree):\n",
    "        self.trees.append(tree)\n",
    "        \n",
    "forest = Forest()\n",
    "print(f'there are {forest.tree_count()} trees in the forest')"
   ]
  },
  {
   "cell_type": "markdown",
   "id": "d9d0a6a0",
   "metadata": {
    "slideshow": {
     "slide_type": "subslide"
    }
   },
   "source": [
    "`tree_obs.csv` is a csv containing observations from fieldwork"
   ]
  },
  {
   "cell_type": "code",
   "execution_count": 20,
   "id": "f5a3338d",
   "metadata": {
    "slideshow": {
     "slide_type": "fragment"
    }
   },
   "outputs": [
    {
     "data": {
      "text/html": [
       "<div>\n",
       "<style scoped>\n",
       "    .dataframe tbody tr th:only-of-type {\n",
       "        vertical-align: middle;\n",
       "    }\n",
       "\n",
       "    .dataframe tbody tr th {\n",
       "        vertical-align: top;\n",
       "    }\n",
       "\n",
       "    .dataframe thead th {\n",
       "        text-align: right;\n",
       "    }\n",
       "</style>\n",
       "<table border=\"1\" class=\"dataframe\">\n",
       "  <thead>\n",
       "    <tr style=\"text-align: right;\">\n",
       "      <th></th>\n",
       "      <th>dbh</th>\n",
       "      <th>h</th>\n",
       "      <th>species</th>\n",
       "    </tr>\n",
       "  </thead>\n",
       "  <tbody>\n",
       "    <tr>\n",
       "      <th>0</th>\n",
       "      <td>2.5</td>\n",
       "      <td>5.0</td>\n",
       "      <td>oak</td>\n",
       "    </tr>\n",
       "    <tr>\n",
       "      <th>1</th>\n",
       "      <td>1.4</td>\n",
       "      <td>3.1</td>\n",
       "      <td>birch</td>\n",
       "    </tr>\n",
       "    <tr>\n",
       "      <th>2</th>\n",
       "      <td>1.8</td>\n",
       "      <td>3.4</td>\n",
       "      <td>birch</td>\n",
       "    </tr>\n",
       "    <tr>\n",
       "      <th>3</th>\n",
       "      <td>5.2</td>\n",
       "      <td>8.1</td>\n",
       "      <td>oak</td>\n",
       "    </tr>\n",
       "    <tr>\n",
       "      <th>4</th>\n",
       "      <td>2.5</td>\n",
       "      <td>5.2</td>\n",
       "      <td>birch</td>\n",
       "    </tr>\n",
       "  </tbody>\n",
       "</table>\n",
       "</div>"
      ],
      "text/plain": [
       "   dbh    h species\n",
       "0  2.5  5.0     oak\n",
       "1  1.4  3.1   birch\n",
       "2  1.8  3.4   birch\n",
       "3  5.2  8.1     oak\n",
       "4  2.5  5.2   birch"
      ]
     },
     "execution_count": 20,
     "metadata": {},
     "output_type": "execute_result"
    }
   ],
   "source": [
    "import pandas as pd\n",
    "tree_obs = pd.read_csv('tree_obs.csv')\n",
    "tree_obs.head()"
   ]
  },
  {
   "cell_type": "markdown",
   "id": "90bb0f44",
   "metadata": {
    "slideshow": {
     "slide_type": "subslide"
    }
   },
   "source": [
    "Iterate over `tree_obs` to add trees to the forest:"
   ]
  },
  {
   "cell_type": "code",
   "execution_count": 21,
   "id": "51a5dd25",
   "metadata": {
    "slideshow": {
     "slide_type": "fragment"
    }
   },
   "outputs": [
    {
     "name": "stdout",
     "output_type": "stream",
     "text": [
      "there are 8 trees in the forest\n"
     ]
    }
   ],
   "source": [
    "for ri, row in tree_obs.iterrows():\n",
    "    # first make a tree\n",
    "    tree = Tree(species=row['species'], height=row['h'], dbh=row['dbh'])\n",
    "    # then add tree to forest\n",
    "    forest.add_tree(tree)\n",
    "    \n",
    "# then count the number of trees in the forest again\n",
    "print(f'there are {forest.tree_count()} trees in the forest')"
   ]
  },
  {
   "cell_type": "code",
   "execution_count": 22,
   "id": "4b13f934",
   "metadata": {
    "slideshow": {
     "slide_type": "skip"
    }
   },
   "outputs": [],
   "source": [
    "class Forest():\n",
    "    def __init__(self, trees=[]):\n",
    "        self.trees = trees\n",
    "\n",
    "    # this makes the forest act like a list (i.e. subscriptable)\n",
    "    def __getitem__(self, item):\n",
    "        return self.trees[item]\n",
    "\n",
    "    def add_tree(self, tree):\n",
    "        self.trees.append(tree)\n",
    "        \n",
    "    def total_biomass(self, species=None):\n",
    "        if species:\n",
    "            trees_in = [t for t in self.trees if t.species == species]\n",
    "        else:\n",
    "            trees_in = self.trees\n",
    "        total_biomass = sum([t.estimate_biomass() for t in trees_in])\n",
    "        return total_biomass\n",
    "        \n",
    "forest = Forest()\n",
    "for ri, row in tree_obs.iterrows():\n",
    "    # first make a tree\n",
    "    tree = Tree(species=row['species'], height=row['h'], dbh=row['dbh'])\n",
    "    # then add tree to forest\n",
    "    forest.add_tree(tree)"
   ]
  },
  {
   "cell_type": "markdown",
   "id": "fbc9ae44",
   "metadata": {
    "slideshow": {
     "slide_type": "subslide"
    }
   },
   "source": [
    "- we can add a new method to `Forest`, `total_biomass` to calculate the total biomass of the forest or a specific species within the forest\n",
    "\n",
    "```python\n",
    "def total_biomass(self, species=None):\n",
    "    \n",
    "    if species:\n",
    "        trees_in = [t for t in self.trees if t.species == species]\n",
    "    else:\n",
    "        trees_in = self.trees\n",
    "        \n",
    "    total_biomass = sum([t.estimate_biomass() for t in trees_in])\n",
    "    return total_biomass\n",
    "        \n",
    "```\n",
    "- note that the `estimate_biomass` method from the `Tree` class can be called within an instance of `Forest`"
   ]
  },
  {
   "cell_type": "code",
   "execution_count": 30,
   "id": "f1579cfb",
   "metadata": {
    "slideshow": {
     "slide_type": "fragment"
    }
   },
   "outputs": [
    {
     "name": "stdout",
     "output_type": "stream",
     "text": [
      "10.379952411708599\n",
      "0.13381341562692708\n",
      "8.63593304152186\n",
      "1.6102059545598113\n"
     ]
    }
   ],
   "source": [
    "print(forest.total_biomass())\n",
    "print(forest.total_biomass(species='rowan'))\n",
    "print(forest.total_biomass(species='oak'))\n",
    "print(forest.total_biomass(species='birch'))"
   ]
  },
  {
   "cell_type": "markdown",
   "id": "7f018b49",
   "metadata": {
    "slideshow": {
     "slide_type": "slide"
    }
   },
   "source": [
    "## Example that I actually use\n",
    "\n",
    "- I often need to slice and plot `xr.DataArray` classes with a rectangle with north, south, east and westlimits\n",
    "- Bundling these values up into a class with useful methods avoids repetition of code and is easy to use between multiple scripts"
   ]
  },
  {
   "cell_type": "code",
   "execution_count": 24,
   "id": "7a5f1291",
   "metadata": {
    "slideshow": {
     "slide_type": "fragment"
    }
   },
   "outputs": [],
   "source": [
    "class MapArea:\n",
    "\n",
    "    def __init__(self, westlimit, eastlimit, northlimit, southlimit):\n",
    "        self.westlimit = westlimit\n",
    "        self.eastlimit = eastlimit\n",
    "        self.northlimit = northlimit\n",
    "        self.southlimit = southlimit\n",
    "\n",
    "    def limits(self):\n",
    "        return self.westlimit, self.southlimit, self.eastlimit, self.northlimit\n",
    "\n",
    "    def slicer(self):\n",
    "        ldict = {}\n",
    "        ldict['latitude'] = slice(self.northlimit, self.southlimit)\n",
    "        ldict['longitude'] = slice(self.westlimit, self.eastlimit)\n",
    "        return ldict\n",
    "\n",
    "    def rectangle(self, colour, alpha=.5):\n",
    "        rect = mpatches.Rectangle(xy=[self.westlimit, self.southlimit],\n",
    "                           width=self.eastlimit-self.westlimit,\n",
    "                           height=self.northlimit-self.southlimit,\n",
    "                           transform=ccrs.PlateCarree(),\n",
    "                           facecolor=colour, alpha=alpha)\n",
    "        return rect"
   ]
  },
  {
   "cell_type": "markdown",
   "id": "155a37a2",
   "metadata": {
    "slideshow": {
     "slide_type": "subslide"
    }
   },
   "source": [
    "### Usage example\n",
    "\n",
    "Plotting a map of PM2.5 in an area"
   ]
  },
  {
   "cell_type": "code",
   "execution_count": 25,
   "id": "89aac6e7",
   "metadata": {
    "slideshow": {
     "slide_type": "fragment"
    }
   },
   "outputs": [
    {
     "data": {
      "text/plain": [
       "<matplotlib.collections.QuadMesh at 0x7f26310cb0a0>"
      ]
     },
     "execution_count": 25,
     "metadata": {},
     "output_type": "execute_result"
    },
    {
     "data": {
      "image/png": "[encoded data removed]",
      "text/plain": [
       "<Figure size 432x288 with 2 Axes>"
      ]
     },
     "metadata": {
      "needs_background": "light"
     },
     "output_type": "display_data"
    }
   ],
   "source": [
    "import xarray as xr\n",
    "import cartopy.crs as ccrs\n",
    "import matplotlib.pyplot as plt\n",
    "\n",
    "da = xr.open_dataset('cams_surface_pm25_2019.nc')['pm2p5']\n",
    "da.plot(vmax=75)"
   ]
  },
  {
   "cell_type": "code",
   "execution_count": 26,
   "id": "e3df6872",
   "metadata": {
    "slideshow": {
     "slide_type": "subslide"
    }
   },
   "outputs": [
    {
     "name": "stdout",
     "output_type": "stream",
     "text": [
      "{'latitude': slice(54.4, 17.2, None), 'longitude': slice(71.5, 135.1, None)}\n"
     ]
    },
    {
     "data": {
      "text/plain": [
       "<matplotlib.collections.QuadMesh at 0x7f2630fb6220>"
      ]
     },
     "execution_count": 26,
     "metadata": {},
     "output_type": "execute_result"
    },
    {
     "data": {
      "image/png": "[encoded data removed]",
      "text/plain": [
       "<Figure size 432x288 with 2 Axes>"
      ]
     },
     "metadata": {
      "needs_background": "light"
     },
     "output_type": "display_data"
    }
   ],
   "source": [
    "china = MapArea(westlimit=71.5, southlimit=17.2, eastlimit=135.1, northlimit=54.4)\n",
    "# show what calling the slicer method does\n",
    "print(china.slicer())\n",
    "# slice and plot\n",
    "da.loc[china.slicer()].plot(vmax=150)"
   ]
  },
  {
   "cell_type": "code",
   "execution_count": 32,
   "id": "df46b2c7",
   "metadata": {
    "slideshow": {
     "slide_type": "subslide"
    }
   },
   "outputs": [
    {
     "data": {
      "image/png": "[encoded data removed]",
      "text/plain": [
       "<Figure size 864x864 with 3 Axes>"
      ]
     },
     "metadata": {
      "needs_background": "light"
     },
     "output_type": "display_data"
    }
   ],
   "source": [
    "# make a fancier plot\n",
    "import matplotlib.patches as mpatches\n",
    "fig = plt.figure(figsize=[12,12])\n",
    "ax = fig.add_subplot(projection=ccrs.PlateCarree())\n",
    "da.loc[china.slicer()].plot(ax=ax, cbar_kwargs={'shrink':.6})\n",
    "ax.coastlines()\n",
    "\n",
    "ax1 = fig.add_subplot(515,projection=ccrs.PlateCarree())\n",
    "ax1.add_patch(china.rectangle(colour='orange'))\n",
    "ax1.coastlines()\n",
    "ax1.set_extent([-180,180, -90, 90], crs=ccrs.PlateCarree())"
   ]
  },
  {
   "cell_type": "markdown",
   "id": "79557383",
   "metadata": {
    "slideshow": {
     "slide_type": "slide"
    }
   },
   "source": [
    "## One last example\n",
    "\n",
    "- Remember that the intended usage of a class is bundling together data and functionality.\n",
    "- A good use case is to make a class which represents the hazard ratio function from the GEMM (Global Exposure Mortality Model)\n",
    "\n",
    "To calculate the hazard ratio (additional risk due to PM2.5) you need:\n",
    "1. a PM2.5 concentration\n",
    "2. Parameters for the GEMM equation (these change for cause, age group and uncertainty level)\n",
    "3. the equation itself"
   ]
  },
  {
   "cell_type": "markdown",
   "id": "c8906c5a",
   "metadata": {
    "slideshow": {
     "slide_type": "subslide"
    }
   },
   "source": [
    "The parameters are in a dataframe:"
   ]
  },
  {
   "cell_type": "code",
   "execution_count": 28,
   "id": "9871b6d3",
   "metadata": {
    "slideshow": {
     "slide_type": "fragment"
    }
   },
   "outputs": [
    {
     "data": {
      "text/html": [
       "<div>\n",
       "<style scoped>\n",
       "    .dataframe tbody tr th:only-of-type {\n",
       "        vertical-align: middle;\n",
       "    }\n",
       "\n",
       "    .dataframe tbody tr th {\n",
       "        vertical-align: top;\n",
       "    }\n",
       "\n",
       "    .dataframe thead th {\n",
       "        text-align: right;\n",
       "    }\n",
       "</style>\n",
       "<table border=\"1\" class=\"dataframe\">\n",
       "  <thead>\n",
       "    <tr style=\"text-align: right;\">\n",
       "      <th></th>\n",
       "      <th></th>\n",
       "      <th></th>\n",
       "      <th>theta</th>\n",
       "      <th>theta_se</th>\n",
       "      <th>alpha</th>\n",
       "      <th>mu</th>\n",
       "      <th>tau</th>\n",
       "    </tr>\n",
       "    <tr>\n",
       "      <th>includes_china?</th>\n",
       "      <th>cause</th>\n",
       "      <th>age_group</th>\n",
       "      <th></th>\n",
       "      <th></th>\n",
       "      <th></th>\n",
       "      <th></th>\n",
       "      <th></th>\n",
       "    </tr>\n",
       "  </thead>\n",
       "  <tbody>\n",
       "    <tr>\n",
       "      <th rowspan=\"5\" valign=\"top\">All-regions, INcluding China</th>\n",
       "      <th rowspan=\"5\" valign=\"top\">Non-accidental function (Non-Communicable + LRI deaths)</th>\n",
       "      <th>25-29</th>\n",
       "      <td>0.1585</td>\n",
       "      <td>0.01477</td>\n",
       "      <td>1.6</td>\n",
       "      <td>15.5</td>\n",
       "      <td>36.8</td>\n",
       "    </tr>\n",
       "    <tr>\n",
       "      <th>30-34</th>\n",
       "      <td>0.1577</td>\n",
       "      <td>0.01470</td>\n",
       "      <td>1.6</td>\n",
       "      <td>15.5</td>\n",
       "      <td>36.8</td>\n",
       "    </tr>\n",
       "    <tr>\n",
       "      <th>35-39</th>\n",
       "      <td>0.1570</td>\n",
       "      <td>0.01463</td>\n",
       "      <td>1.6</td>\n",
       "      <td>15.5</td>\n",
       "      <td>36.8</td>\n",
       "    </tr>\n",
       "    <tr>\n",
       "      <th>40-44</th>\n",
       "      <td>0.1558</td>\n",
       "      <td>0.01450</td>\n",
       "      <td>1.6</td>\n",
       "      <td>15.5</td>\n",
       "      <td>36.8</td>\n",
       "    </tr>\n",
       "    <tr>\n",
       "      <th>45-49</th>\n",
       "      <td>0.1532</td>\n",
       "      <td>0.01425</td>\n",
       "      <td>1.6</td>\n",
       "      <td>15.5</td>\n",
       "      <td>36.8</td>\n",
       "    </tr>\n",
       "  </tbody>\n",
       "</table>\n",
       "</div>"
      ],
      "text/plain": [
       "                                                                                            theta  \\\n",
       "includes_china?              cause                                              age_group           \n",
       "All-regions, INcluding China Non-accidental function (Non-Communicable + LRI... 25-29      0.1585   \n",
       "                                                                                30-34      0.1577   \n",
       "                                                                                35-39      0.1570   \n",
       "                                                                                40-44      0.1558   \n",
       "                                                                                45-49      0.1532   \n",
       "\n",
       "                                                                                           theta_se  \\\n",
       "includes_china?              cause                                              age_group             \n",
       "All-regions, INcluding China Non-accidental function (Non-Communicable + LRI... 25-29       0.01477   \n",
       "                                                                                30-34       0.01470   \n",
       "                                                                                35-39       0.01463   \n",
       "                                                                                40-44       0.01450   \n",
       "                                                                                45-49       0.01425   \n",
       "\n",
       "                                                                                           alpha  \\\n",
       "includes_china?              cause                                              age_group          \n",
       "All-regions, INcluding China Non-accidental function (Non-Communicable + LRI... 25-29        1.6   \n",
       "                                                                                30-34        1.6   \n",
       "                                                                                35-39        1.6   \n",
       "                                                                                40-44        1.6   \n",
       "                                                                                45-49        1.6   \n",
       "\n",
       "                                                                                             mu  \\\n",
       "includes_china?              cause                                              age_group         \n",
       "All-regions, INcluding China Non-accidental function (Non-Communicable + LRI... 25-29      15.5   \n",
       "                                                                                30-34      15.5   \n",
       "                                                                                35-39      15.5   \n",
       "                                                                                40-44      15.5   \n",
       "                                                                                45-49      15.5   \n",
       "\n",
       "                                                                                            tau  \n",
       "includes_china?              cause                                              age_group        \n",
       "All-regions, INcluding China Non-accidental function (Non-Communicable + LRI... 25-29      36.8  \n",
       "                                                                                30-34      36.8  \n",
       "                                                                                35-39      36.8  \n",
       "                                                                                40-44      36.8  \n",
       "                                                                                45-49      36.8  "
      ]
     },
     "execution_count": 28,
     "metadata": {},
     "output_type": "execute_result"
    }
   ],
   "source": [
    "pd.read_csv('gemm_parameters.csv', index_col=[0,1,2]).head()"
   ]
  },
  {
   "cell_type": "markdown",
   "id": "f2d7d651",
   "metadata": {
    "slideshow": {
     "slide_type": "subslide"
    }
   },
   "source": [
    "And the equation is in a function like this:\n",
    "\n",
    "```python\n",
    "def calculate_hazard_ratio(pm25, alpha, mu, tau, theta):  \n",
    "        \n",
    "        # subtract counterfactual\n",
    "        z = pm25 - 2.4\n",
    "        # set values less than zero to zero\n",
    "        z = z.where(z > 0, 0)\n",
    "        \n",
    "        gamma = np.log(1 + z / self.alpha) / (1 + np.exp((self.mu - z) / self.tau))\n",
    "        \n",
    "        hazard_ratio = np.exp(self.theta * gamma)\n",
    "        \n",
    "        return hazard_ratio\n",
    "```\n",
    "And would pass the correct parameters into the function each time it was called (on each country)"
   ]
  },
  {
   "cell_type": "markdown",
   "id": "ffed4822",
   "metadata": {
    "slideshow": {
     "slide_type": "subslide"
    }
   },
   "source": [
    "the script using function\n",
    "```python\n",
    "\n",
    "def calculate_hazard_ratio(pm25, alpha, mu, tau, theta):  \n",
    "    # subtract counterfactual\n",
    "    z = pm25 - 2.4\n",
    "    # set values less than zero to zero\n",
    "    z = z.where(z > 0, 0)\n",
    "    gamma = np.log(1 + z / alpha) / (1 + np.exp((mu - z) / tau))\n",
    "    hazard_ratio = np.exp(theta * gamma)\n",
    "    return hazard_ratio\n",
    "\n",
    "if __name__ == \"__main__\":\n",
    "\n",
    "    # load GEMM params and apply options\n",
    "    gemm_params = pd.read_csv(config['gemm_params_fpath'], \n",
    "                              index_col=[0,1,2])\n",
    "    gemm_params = gemm_params.sort_index()\n",
    "\n",
    "    # create iterators\n",
    "    causes = gemm_params.index.get_level_values('cause').unique()\n",
    "    age_groups = gemm_params.index.get_level_values('age_group').unique()\n",
    "    uncertainties = ['lower','mid','upper']\n",
    "\n",
    "    for cause in causes:\n",
    "        for age_group in age_groups:\n",
    "            for uncertainty in uncertainties:\n",
    "                alpha, mu, tau, theta = gemm_params.loc[cause, age_group, uncertainty]\n",
    "                for country in countries:\n",
    "                    hazard_ratio = calculate_hazard_ratio(pm25=pm25, alpha=alpha, mu=mu, tau=tau, theta=theta)\n",
    "```"
   ]
  },
  {
   "cell_type": "markdown",
   "id": "db66dd42",
   "metadata": {
    "slideshow": {
     "slide_type": "subslide"
    }
   },
   "source": [
    "the script using a class\n",
    "```python\n",
    "class Gemm():\n",
    "    \n",
    "    # load GEMM params and apply options\n",
    "    gemm_params = pd.read_csv(config['gemm_params_fpath'], \n",
    "                              index_col=[0,1,2])\n",
    "    gemm_params = gemm_params.sort_index()\n",
    "    \n",
    "    # create iterators for age groups and causes\n",
    "    causes = gemm_params.index.get_level_values('cause').unique()\n",
    "    age_groups = gemm_params.index.get_level_values('age_group').unique()\n",
    "    \n",
    "    def __init__(self, cause, age_group, uncert, \n",
    "                 gemm_params=gemm_params):\n",
    "\n",
    "        self.theta, self.theta_se, self.alpha, self.mu, self.tau =\\\n",
    "            gemm_params.loc[cause, age_group]\n",
    "            \n",
    "        # modify theta if calculating an uncertainty bound\n",
    "        if uncert == 'lower':\n",
    "            self.theta_uncert = self.theta - self.theta_se\n",
    "        elif uncert == 'mid':\n",
    "            self.theta_uncert = self.theta\n",
    "        elif uncert == 'upper':\n",
    "            self.theta_uncert = self.theta + self.theta_se  \n",
    "        \n",
    "    def calculate_hazard_ratio(self, pm25):  \n",
    "        # subtract counterfactual\n",
    "        z = pm25 - 2.4\n",
    "        # set values less than zero to zero\n",
    "        z = z.where(z > 0, 0)\n",
    "        gamma = np.log(1 + z / self.alpha) / (1 + np.exp((self.mu - z) / self.tau))\n",
    "        hazard_ratio = np.exp(self.theta * gamma)\n",
    "        return hazard_ratio\n",
    "\n",
    "if __name__ == \"__main__\":\n",
    "    \n",
    "    for cause in gemm.causes:\n",
    "        for age_group in gemm.age_groups:\n",
    "            for uncertainty in ['lower','mid','upper']:\n",
    "                gemm = Gemm(cause=cause, age_group=age_group, uncert=uncertainty)\n",
    "                for country in countries:\n",
    "                    hazard_ratio = calculate_hazard_ratio(pm25=pm25, alpha=alpha, mu=mu, tau=tau, theta=theta)\n",
    "```"
   ]
  },
  {
   "cell_type": "markdown",
   "id": "0dcdc573",
   "metadata": {
    "slideshow": {
     "slide_type": "subslide"
    }
   },
   "source": [
    "The code doesn't change much and isn't any shorter as a class. The good thing is that it is all packaged up together. So if another script needed to import the ability to use `Gemm()`, it would only have to import the class, which contains everything, rather than importing the hazard ratio function, loading the required data and making the iterators\n",
    "\n",
    "```python\n",
    "from health_functions import Gemm\n",
    "\n",
    "if __name__ == \"__main__\":\n",
    "    \n",
    "    for cause in gemm.causes:\n",
    "        for age_group in gemm.age_groups:\n",
    "            for uncertainty in ['lower','mid','upper']:\n",
    "                gemm = Gemm(cause=cause, age_group=age_group, uncert=uncertainty)\n",
    "                for country in countries:\n",
    "                    hazard_ratio = calculate_hazard_ratio(pm25=pm25, alpha=alpha, mu=mu, tau=tau, theta=theta)\n",
    "                    \n",
    "```"
   ]
  }
 ],
 "metadata": {
  "celltoolbar": "Slideshow",
  "kernelspec": {
   "display_name": "Python 3 (ipykernel)",
   "language": "python",
   "name": "python3"
  },
  "language_info": {
   "codemirror_mode": {
    "name": "ipython",
    "version": 3
   },
   "file_extension": ".py",
   "mimetype": "text/x-python",
   "name": "python",
   "nbconvert_exporter": "python",
   "pygments_lexer": "ipython3",
   "version": "3.9.7"
  }
 },
 "nbformat": 4,
 "nbformat_minor": 5
}
